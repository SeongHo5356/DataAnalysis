{
 "cells": [
  {
   "attachments": {},
   "cell_type": "markdown",
   "id": "37d2540b-d9f3-4330-b29c-db43a6017649",
   "metadata": {},
   "source": [
    "# Chapter 08. Statistics"
   ]
  },
  {
   "cell_type": "markdown",
   "id": "ee96ef5d-c9b2-44e5-9510-550d658f3037",
   "metadata": {},
   "source": [
    "- Assume that there are 100 students in the Applied Data Analysis class\n",
    "- We obtained a sample of 30 students as follows"
   ]
  },
  {
   "cell_type": "code",
   "execution_count": null,
   "id": "b2736391-a115-48c5-9a15-c01ba5203a47",
   "metadata": {},
   "outputs": [],
   "source": [
    "import pandas as pd\n",
    "import numpy as np\n",
    "import matplotlib.pyplot as plt\n",
    "\n",
    "import warnings\n",
    "warnings.filterwarnings(action='ignore')"
   ]
  },
  {
   "cell_type": "code",
   "execution_count": null,
   "id": "14d13ec4-5d30-4566-944a-bda3cd0001da",
   "metadata": {},
   "outputs": [
    {
     "data": {
      "text/html": [
       "<div>\n",
       "<style scoped>\n",
       "    .dataframe tbody tr th:only-of-type {\n",
       "        vertical-align: middle;\n",
       "    }\n",
       "\n",
       "    .dataframe tbody tr th {\n",
       "        vertical-align: top;\n",
       "    }\n",
       "\n",
       "    .dataframe thead th {\n",
       "        text-align: right;\n",
       "    }\n",
       "</style>\n",
       "<table border=\"1\" class=\"dataframe\">\n",
       "  <thead>\n",
       "    <tr style=\"text-align: right;\">\n",
       "      <th></th>\n",
       "      <th>Student No.</th>\n",
       "      <th>Gender</th>\n",
       "      <th>Department</th>\n",
       "      <th>Height</th>\n",
       "      <th>Score</th>\n",
       "    </tr>\n",
       "  </thead>\n",
       "  <tbody>\n",
       "    <tr>\n",
       "      <th>0</th>\n",
       "      <td>1</td>\n",
       "      <td>0</td>\n",
       "      <td>A</td>\n",
       "      <td>168</td>\n",
       "      <td>70</td>\n",
       "    </tr>\n",
       "    <tr>\n",
       "      <th>1</th>\n",
       "      <td>2</td>\n",
       "      <td>0</td>\n",
       "      <td>B</td>\n",
       "      <td>169</td>\n",
       "      <td>85</td>\n",
       "    </tr>\n",
       "    <tr>\n",
       "      <th>2</th>\n",
       "      <td>3</td>\n",
       "      <td>0</td>\n",
       "      <td>C</td>\n",
       "      <td>170</td>\n",
       "      <td>100</td>\n",
       "    </tr>\n",
       "    <tr>\n",
       "      <th>3</th>\n",
       "      <td>4</td>\n",
       "      <td>0</td>\n",
       "      <td>A</td>\n",
       "      <td>171</td>\n",
       "      <td>75</td>\n",
       "    </tr>\n",
       "    <tr>\n",
       "      <th>4</th>\n",
       "      <td>5</td>\n",
       "      <td>0</td>\n",
       "      <td>B</td>\n",
       "      <td>172</td>\n",
       "      <td>80</td>\n",
       "    </tr>\n",
       "  </tbody>\n",
       "</table>\n",
       "</div>"
      ],
      "text/plain": [
       "   Student No.  Gender Department  Height  Score\n",
       "0            1       0          A     168     70\n",
       "1            2       0          B     169     85\n",
       "2            3       0          C     170    100\n",
       "3            4       0          A     171     75\n",
       "4            5       0          B     172     80"
      ]
     },
     "execution_count": 2,
     "metadata": {},
     "output_type": "execute_result"
    }
   ],
   "source": [
    "df = pd.read_csv(\"ADA_Chapter08_Code_Dataset.csv\")\n",
    "df.head()"
   ]
  },
  {
   "cell_type": "code",
   "execution_count": null,
   "id": "4351d8e1-84be-44d5-a502-a421a1988acf",
   "metadata": {},
   "outputs": [
    {
     "name": "stdout",
     "output_type": "stream",
     "text": [
      "<class 'pandas.core.frame.DataFrame'>\n",
      "RangeIndex: 30 entries, 0 to 29\n",
      "Data columns (total 5 columns):\n",
      " #   Column       Non-Null Count  Dtype \n",
      "---  ------       --------------  ----- \n",
      " 0   Student No.  30 non-null     int64 \n",
      " 1   Gender       30 non-null     int64 \n",
      " 2   Department   30 non-null     object\n",
      " 3   Height       30 non-null     int64 \n",
      " 4   Score        30 non-null     int64 \n",
      "dtypes: int64(4), object(1)\n",
      "memory usage: 1.3+ KB\n"
     ]
    }
   ],
   "source": [
    "df.info()"
   ]
  },
  {
   "cell_type": "code",
   "execution_count": null,
   "id": "0373cf72",
   "metadata": {},
   "outputs": [
    {
     "data": {
      "text/html": [
       "<div>\n",
       "<style scoped>\n",
       "    .dataframe tbody tr th:only-of-type {\n",
       "        vertical-align: middle;\n",
       "    }\n",
       "\n",
       "    .dataframe tbody tr th {\n",
       "        vertical-align: top;\n",
       "    }\n",
       "\n",
       "    .dataframe thead th {\n",
       "        text-align: right;\n",
       "    }\n",
       "</style>\n",
       "<table border=\"1\" class=\"dataframe\">\n",
       "  <thead>\n",
       "    <tr style=\"text-align: right;\">\n",
       "      <th></th>\n",
       "      <th>Student No.</th>\n",
       "      <th>Gender</th>\n",
       "      <th>Height</th>\n",
       "      <th>Score</th>\n",
       "    </tr>\n",
       "  </thead>\n",
       "  <tbody>\n",
       "    <tr>\n",
       "      <th>count</th>\n",
       "      <td>30.000000</td>\n",
       "      <td>30.000000</td>\n",
       "      <td>30.000000</td>\n",
       "      <td>30.000000</td>\n",
       "    </tr>\n",
       "    <tr>\n",
       "      <th>mean</th>\n",
       "      <td>15.500000</td>\n",
       "      <td>0.500000</td>\n",
       "      <td>169.000000</td>\n",
       "      <td>77.500000</td>\n",
       "    </tr>\n",
       "    <tr>\n",
       "      <th>std</th>\n",
       "      <td>8.803408</td>\n",
       "      <td>0.508548</td>\n",
       "      <td>7.520088</td>\n",
       "      <td>20.833908</td>\n",
       "    </tr>\n",
       "    <tr>\n",
       "      <th>min</th>\n",
       "      <td>1.000000</td>\n",
       "      <td>0.000000</td>\n",
       "      <td>156.000000</td>\n",
       "      <td>20.000000</td>\n",
       "    </tr>\n",
       "    <tr>\n",
       "      <th>25%</th>\n",
       "      <td>8.250000</td>\n",
       "      <td>0.000000</td>\n",
       "      <td>163.250000</td>\n",
       "      <td>70.000000</td>\n",
       "    </tr>\n",
       "    <tr>\n",
       "      <th>50%</th>\n",
       "      <td>15.500000</td>\n",
       "      <td>0.500000</td>\n",
       "      <td>169.000000</td>\n",
       "      <td>80.000000</td>\n",
       "    </tr>\n",
       "    <tr>\n",
       "      <th>75%</th>\n",
       "      <td>22.750000</td>\n",
       "      <td>1.000000</td>\n",
       "      <td>174.750000</td>\n",
       "      <td>90.000000</td>\n",
       "    </tr>\n",
       "    <tr>\n",
       "      <th>max</th>\n",
       "      <td>30.000000</td>\n",
       "      <td>1.000000</td>\n",
       "      <td>182.000000</td>\n",
       "      <td>100.000000</td>\n",
       "    </tr>\n",
       "  </tbody>\n",
       "</table>\n",
       "</div>"
      ],
      "text/plain": [
       "       Student No.     Gender      Height       Score\n",
       "count    30.000000  30.000000   30.000000   30.000000\n",
       "mean     15.500000   0.500000  169.000000   77.500000\n",
       "std       8.803408   0.508548    7.520088   20.833908\n",
       "min       1.000000   0.000000  156.000000   20.000000\n",
       "25%       8.250000   0.000000  163.250000   70.000000\n",
       "50%      15.500000   0.500000  169.000000   80.000000\n",
       "75%      22.750000   1.000000  174.750000   90.000000\n",
       "max      30.000000   1.000000  182.000000  100.000000"
      ]
     },
     "execution_count": 4,
     "metadata": {},
     "output_type": "execute_result"
    }
   ],
   "source": [
    "df.describe()"
   ]
  },
  {
   "cell_type": "markdown",
   "id": "5d416ba3-d731-4149-bb57-604ada7c09a3",
   "metadata": {},
   "source": [
    "## Height and Score difference by Gender"
   ]
  },
  {
   "cell_type": "code",
   "execution_count": 5,
   "id": "c1fff88b-5fe3-4451-ba9e-b9612120b8f3",
   "metadata": {},
   "outputs": [
    {
     "data": {
      "text/html": [
       "<div>\n",
       "<style scoped>\n",
       "    .dataframe tbody tr th:only-of-type {\n",
       "        vertical-align: middle;\n",
       "    }\n",
       "\n",
       "    .dataframe tbody tr th {\n",
       "        vertical-align: top;\n",
       "    }\n",
       "\n",
       "    .dataframe thead th {\n",
       "        text-align: right;\n",
       "    }\n",
       "</style>\n",
       "<table border=\"1\" class=\"dataframe\">\n",
       "  <thead>\n",
       "    <tr style=\"text-align: right;\">\n",
       "      <th></th>\n",
       "      <th>Height</th>\n",
       "      <th>Score</th>\n",
       "    </tr>\n",
       "    <tr>\n",
       "      <th>Gender</th>\n",
       "      <th></th>\n",
       "      <th></th>\n",
       "    </tr>\n",
       "  </thead>\n",
       "  <tbody>\n",
       "    <tr>\n",
       "      <th>0</th>\n",
       "      <td>175.0</td>\n",
       "      <td>77.0</td>\n",
       "    </tr>\n",
       "    <tr>\n",
       "      <th>1</th>\n",
       "      <td>163.0</td>\n",
       "      <td>78.0</td>\n",
       "    </tr>\n",
       "  </tbody>\n",
       "</table>\n",
       "</div>"
      ],
      "text/plain": [
       "        Height  Score\n",
       "Gender               \n",
       "0        175.0   77.0\n",
       "1        163.0   78.0"
      ]
     },
     "execution_count": 5,
     "metadata": {},
     "output_type": "execute_result"
    }
   ],
   "source": [
    "df.groupby('Gender')[['Height', 'Score']].mean()"
   ]
  },
  {
   "cell_type": "code",
   "execution_count": 6,
   "id": "31fcc5c7-5a21-4730-ad29-6b327fd40493",
   "metadata": {},
   "outputs": [
    {
     "data": {
      "image/png": "[encoded data removed]",
      "text/plain": [
       "<Figure size 640x480 with 2 Axes>"
      ]
     },
     "metadata": {},
     "output_type": "display_data"
    }
   ],
   "source": [
    "df.groupby('Gender')[['Height']].boxplot()\n",
    "plt.ylim(0, 200)\n",
    "plt.show()"
   ]
  },
  {
   "cell_type": "code",
   "execution_count": 7,
   "id": "ed1e20cf-883b-4e2e-bb6a-e29859ac4981",
   "metadata": {},
   "outputs": [
    {
     "data": {
      "image/png": "[encoded data removed]",
      "text/plain": [
       "<Figure size 640x480 with 2 Axes>"
      ]
     },
     "metadata": {},
     "output_type": "display_data"
    }
   ],
   "source": [
    "df.groupby('Gender')[['Score']].boxplot()\n",
    "plt.ylim(0, 101)\n",
    "plt.show()"
   ]
  },
  {
   "cell_type": "markdown",
   "id": "06cba495-b6c9-452a-a5c9-59ced2b9cf72",
   "metadata": {},
   "source": [
    "## Height and Score difference by Department"
   ]
  },
  {
   "cell_type": "code",
   "execution_count": 8,
   "id": "c2e0f422-03e3-453c-a100-4e69825c9332",
   "metadata": {},
   "outputs": [
    {
     "data": {
      "text/html": [
       "<div>\n",
       "<style scoped>\n",
       "    .dataframe tbody tr th:only-of-type {\n",
       "        vertical-align: middle;\n",
       "    }\n",
       "\n",
       "    .dataframe tbody tr th {\n",
       "        vertical-align: top;\n",
       "    }\n",
       "\n",
       "    .dataframe thead th {\n",
       "        text-align: right;\n",
       "    }\n",
       "</style>\n",
       "<table border=\"1\" class=\"dataframe\">\n",
       "  <thead>\n",
       "    <tr style=\"text-align: right;\">\n",
       "      <th></th>\n",
       "      <th>Height</th>\n",
       "      <th>Score</th>\n",
       "    </tr>\n",
       "    <tr>\n",
       "      <th>Department</th>\n",
       "      <th></th>\n",
       "      <th></th>\n",
       "    </tr>\n",
       "  </thead>\n",
       "  <tbody>\n",
       "    <tr>\n",
       "      <th>A</th>\n",
       "      <td>168.0</td>\n",
       "      <td>64.5</td>\n",
       "    </tr>\n",
       "    <tr>\n",
       "      <th>B</th>\n",
       "      <td>169.0</td>\n",
       "      <td>77.5</td>\n",
       "    </tr>\n",
       "    <tr>\n",
       "      <th>C</th>\n",
       "      <td>170.0</td>\n",
       "      <td>90.5</td>\n",
       "    </tr>\n",
       "  </tbody>\n",
       "</table>\n",
       "</div>"
      ],
      "text/plain": [
       "            Height  Score\n",
       "Department               \n",
       "A            168.0   64.5\n",
       "B            169.0   77.5\n",
       "C            170.0   90.5"
      ]
     },
     "execution_count": 8,
     "metadata": {},
     "output_type": "execute_result"
    }
   ],
   "source": [
    "df.groupby('Department')[['Height', 'Score']].mean()"
   ]
  },
  {
   "cell_type": "code",
   "execution_count": 9,
   "id": "f243f6b3-614e-4b93-a391-5e5c47394233",
   "metadata": {},
   "outputs": [
    {
     "data": {
      "image/png": "[encoded data removed]",
      "text/plain": [
       "<Figure size 640x480 with 3 Axes>"
      ]
     },
     "metadata": {},
     "output_type": "display_data"
    }
   ],
   "source": [
    "df.groupby('Department')[['Height']].boxplot(layout=(1,3))\n",
    "plt.ylim(0, 200)\n",
    "plt.show()"
   ]
  },
  {
   "cell_type": "code",
   "execution_count": 10,
   "id": "3b73797e-2533-4610-853f-318552495ee5",
   "metadata": {},
   "outputs": [
    {
     "data": {
      "image/png": "[encoded data removed]",
      "text/plain": [
       "<Figure size 640x480 with 3 Axes>"
      ]
     },
     "metadata": {},
     "output_type": "display_data"
    }
   ],
   "source": [
    "df.groupby('Department')[['Score']].boxplot(layout=(1,3))\n",
    "plt.ylim(0, 101)\n",
    "plt.show()"
   ]
  },
  {
   "cell_type": "markdown",
   "id": "1c9bd0cd-3013-4c0e-a0d9-a43ce15610b2",
   "metadata": {},
   "source": [
    "## Statistical Test"
   ]
  },
  {
   "cell_type": "code",
   "execution_count": 11,
   "id": "bd70b76c-0fbd-4ca6-bf5a-4a802a90c271",
   "metadata": {},
   "outputs": [],
   "source": [
    "from scipy import stats"
   ]
  },
  {
   "cell_type": "markdown",
   "id": "71a93072-45df-4c2a-827f-27c362155adb",
   "metadata": {},
   "source": [
    "### 1. One-samle t-test\n",
    "https://docs.scipy.org/doc/scipy/reference/generated/scipy.stats.ttest_1samp.html\n",
    "- Calculate the T-test for the mean of ONE group of scores\n",
    "- This is a test for the null hypothesis that the expected value (mean) of a sample of independent observations a is equal to the given population mean"
   ]
  },
  {
   "cell_type": "code",
   "execution_count": 12,
   "id": "b0ab08d7-9e56-4e6d-b674-1cef22d91fcf",
   "metadata": {},
   "outputs": [
    {
     "data": {
      "text/plain": [
       "TtestResult(statistic=3.2862446912554106, pvalue=0.002659619845104219, df=29)"
      ]
     },
     "execution_count": 12,
     "metadata": {},
     "output_type": "execute_result"
    }
   ],
   "source": [
    "expected_pop_mean = 65\n",
    "result = stats.ttest_1samp(df['Score'], expected_pop_mean)\n",
    "result"
   ]
  },
  {
   "cell_type": "code",
   "execution_count": 13,
   "id": "d4647a8b-8417-4993-bc01-b47668440b97",
   "metadata": {},
   "outputs": [
    {
     "data": {
      "text/plain": [
       "TtestResult(statistic=3.2862446912554106, pvalue=0.0013298099225521095, df=29)"
      ]
     },
     "execution_count": 13,
     "metadata": {},
     "output_type": "execute_result"
    }
   ],
   "source": [
    "expected_pop_mean = 65\n",
    "result = stats.ttest_1samp(df['Score'], expected_pop_mean, alternative='greater')\n",
    "result"
   ]
  },
  {
   "cell_type": "code",
   "execution_count": 14,
   "id": "87144fea",
   "metadata": {},
   "outputs": [
    {
     "data": {
      "text/plain": [
       "TtestResult(statistic=3.2862446912554106, pvalue=0.998670190077448, df=29)"
      ]
     },
     "execution_count": 14,
     "metadata": {},
     "output_type": "execute_result"
    }
   ],
   "source": [
    "expected_pop_mean = 65\n",
    "result = stats.ttest_1samp(df['Score'], expected_pop_mean, alternative='less')\n",
    "result"
   ]
  },
  {
   "attachments": {},
   "cell_type": "markdown",
   "id": "33f5eaef-de23-4299-ad5c-7fdade092539",
   "metadata": {},
   "source": [
    "### 2. Independent t-test\n",
    "https://docs.scipy.org/doc/scipy/reference/generated/scipy.stats.ttest_ind.html\n",
    "- Calculate the T-test for the means of two independent samples of scores\n",
    "- This is a test for the null hypothesis that 2 independent samples have identical average (expected) values"
   ]
  },
  {
   "cell_type": "markdown",
   "id": "13ca946f-8c2f-4e0a-b1f7-1fe4eb9553d3",
   "metadata": {},
   "source": [
    "#### 2-1. Height Difference"
   ]
  },
  {
   "cell_type": "code",
   "execution_count": 15,
   "id": "1134c097-e257-4882-ab65-76f5d2f671be",
   "metadata": {},
   "outputs": [
    {
     "data": {
      "text/plain": [
       "TtestResult(statistic=7.3484692283495345, pvalue=5.306232131621443e-08, df=28.0)"
      ]
     },
     "execution_count": 15,
     "metadata": {},
     "output_type": "execute_result"
    }
   ],
   "source": [
    "result = stats.ttest_ind(df[df['Gender']==0]['Height'], df[df['Gender']==1]['Height'])\n",
    "result"
   ]
  },
  {
   "cell_type": "code",
   "execution_count": 16,
   "id": "2545c5a2-a02a-4acf-a05f-0227e9c505e2",
   "metadata": {},
   "outputs": [
    {
     "data": {
      "text/plain": [
       "TtestResult(statistic=7.3484692283495345, pvalue=2.6531160658107214e-08, df=28.0)"
      ]
     },
     "execution_count": 16,
     "metadata": {},
     "output_type": "execute_result"
    }
   ],
   "source": [
    "result = stats.ttest_ind(df[df['Gender']==0]['Height'], df[df['Gender']==1]['Height'], alternative='greater')\n",
    "result"
   ]
  },
  {
   "cell_type": "code",
   "execution_count": 17,
   "id": "46591cb4-39a7-4941-9cb8-6f02126193c4",
   "metadata": {},
   "outputs": [
    {
     "data": {
      "text/plain": [
       "TtestResult(statistic=7.3484692283495345, pvalue=0.9999999734688394, df=28.0)"
      ]
     },
     "execution_count": 17,
     "metadata": {},
     "output_type": "execute_result"
    }
   ],
   "source": [
    "result = stats.ttest_ind(df[df['Gender']==0]['Height'], df[df['Gender']==1]['Height'], alternative='less')\n",
    "result"
   ]
  },
  {
   "cell_type": "markdown",
   "id": "63860998-2624-4305-bd88-4e714c5f4f0c",
   "metadata": {},
   "source": [
    "#### 2-2. Score Difference"
   ]
  },
  {
   "cell_type": "code",
   "execution_count": 18,
   "id": "fde81526-adee-4903-aa0e-2f96d0b2f84b",
   "metadata": {},
   "outputs": [
    {
     "data": {
      "text/plain": [
       "TtestResult(statistic=-0.12920202688807664, pvalue=0.8981214390189158, df=28.0)"
      ]
     },
     "execution_count": 18,
     "metadata": {},
     "output_type": "execute_result"
    }
   ],
   "source": [
    "result = stats.ttest_ind(df[df['Gender']==0]['Score'], df[df['Gender']==1]['Score'])\n",
    "result"
   ]
  },
  {
   "cell_type": "code",
   "execution_count": 19,
   "id": "4a75bc9e-1bf7-4133-9623-9f2f62e32936",
   "metadata": {},
   "outputs": [
    {
     "data": {
      "text/plain": [
       "TtestResult(statistic=-0.12920202688807664, pvalue=0.5509392804905421, df=28.0)"
      ]
     },
     "execution_count": 19,
     "metadata": {},
     "output_type": "execute_result"
    }
   ],
   "source": [
    "result = stats.ttest_ind(df[df['Gender']==0]['Score'], df[df['Gender']==1]['Score'], alternative='greater')\n",
    "result"
   ]
  },
  {
   "cell_type": "code",
   "execution_count": 20,
   "id": "544b7d50-0306-40df-bee6-7596ceea91c2",
   "metadata": {},
   "outputs": [
    {
     "data": {
      "text/plain": [
       "TtestResult(statistic=-0.12920202688807664, pvalue=0.4490607195094579, df=28.0)"
      ]
     },
     "execution_count": 20,
     "metadata": {},
     "output_type": "execute_result"
    }
   ],
   "source": [
    "result = stats.ttest_ind(df[df['Gender']==0]['Score'], df[df['Gender']==1]['Score'], alternative='less')\n",
    "result"
   ]
  },
  {
   "cell_type": "markdown",
   "id": "ad4666c3-de0e-4d48-a6dc-4319f80eb3d5",
   "metadata": {},
   "source": [
    "### 3. Mann-Whitney U rank test (non-parametric)\n",
    "https://docs.scipy.org/doc/scipy/reference/generated/scipy.stats.mannwhitneyu.html\n",
    "- Perform the Mann-Whitney U rank test on two independent samples\n",
    "- The Mann-Whitney U test is a nonparametric test of the null hypothesis that the distribution underlying sample x is the same as the distribution underlying sample y"
   ]
  },
  {
   "cell_type": "code",
   "execution_count": 21,
   "id": "c847c17b-ccac-4184-8669-a5ff597f0e88",
   "metadata": {},
   "outputs": [
    {
     "data": {
      "text/plain": [
       "MannwhitneyuResult(statistic=220.5, pvalue=8.181408323772006e-06)"
      ]
     },
     "execution_count": 21,
     "metadata": {},
     "output_type": "execute_result"
    }
   ],
   "source": [
    "result = stats.mannwhitneyu(df[df['Gender']==0]['Height'], df[df['Gender']==1]['Height'])\n",
    "result"
   ]
  },
  {
   "cell_type": "code",
   "execution_count": 22,
   "id": "c1533818-4d12-41a2-8dc4-f5cc5dad30f3",
   "metadata": {},
   "outputs": [
    {
     "data": {
      "text/plain": [
       "MannwhitneyuResult(statistic=220.5, pvalue=4.090704161886003e-06)"
      ]
     },
     "execution_count": 22,
     "metadata": {},
     "output_type": "execute_result"
    }
   ],
   "source": [
    "result = stats.mannwhitneyu(df[df['Gender']==0]['Height'], df[df['Gender']==1]['Height'], alternative='greater')\n",
    "result"
   ]
  },
  {
   "cell_type": "code",
   "execution_count": 23,
   "id": "3d5c2790-735a-4738-a14d-d732e3d27878",
   "metadata": {},
   "outputs": [
    {
     "data": {
      "text/plain": [
       "MannwhitneyuResult(statistic=220.5, pvalue=0.9999966321369997)"
      ]
     },
     "execution_count": 23,
     "metadata": {},
     "output_type": "execute_result"
    }
   ],
   "source": [
    "result = stats.mannwhitneyu(df[df['Gender']==0]['Height'], df[df['Gender']==1]['Height'], alternative='less')\n",
    "result"
   ]
  },
  {
   "cell_type": "markdown",
   "id": "e270954a-5170-4eb2-a475-47aed65631cf",
   "metadata": {},
   "source": [
    "### 4. Paired t-test\n"
   ]
  },
  {
   "cell_type": "code",
   "execution_count": 24,
   "id": "1d2c37fd-256b-4d89-a7cf-9921f751d123",
   "metadata": {},
   "outputs": [
    {
     "data": {
      "image/png": "[encoded data removed]",
      "text/plain": [
       "<Figure size 640x480 with 1 Axes>"
      ]
     },
     "metadata": {},
     "output_type": "display_data"
    }
   ],
   "source": [
    "# Assume that the 30 students take the exam again after taking my special lecture :)\n",
    "df['Score2'] = df['Score'].apply(lambda x: x+0.5 if x<=70 else x)\n",
    "\n",
    "df[['Score', 'Score2']].boxplot()\n",
    "plt.ylim(0, 101)\n",
    "plt.show()"
   ]
  },
  {
   "cell_type": "markdown",
   "id": "197e5590-336b-4f14-b83d-6cd0e1a8d04d",
   "metadata": {},
   "source": [
    "https://docs.scipy.org/doc/scipy/reference/generated/scipy.stats.ttest_rel.html\n",
    "- Calculate the t-test on TWO RELATED samples of scores, a and b.\n",
    "- This is a test for the null hypothesis that two related or repeated samples have identical average (expected) values."
   ]
  },
  {
   "cell_type": "code",
   "execution_count": 25,
   "id": "0d21ccc9-db52-4fcf-a2e7-c2f4677fa13b",
   "metadata": {},
   "outputs": [
    {
     "data": {
      "text/plain": [
       "TtestResult(statistic=-3.5254179083580186, pvalue=0.0014258274179025608, df=29)"
      ]
     },
     "execution_count": 25,
     "metadata": {},
     "output_type": "execute_result"
    }
   ],
   "source": [
    "result = stats.ttest_rel(df['Score'], df['Score2'], alternative='two-sided')\n",
    "result"
   ]
  },
  {
   "cell_type": "code",
   "execution_count": 26,
   "id": "c091d7a9-acd3-4471-811c-5758cbace5d8",
   "metadata": {},
   "outputs": [
    {
     "data": {
      "text/plain": [
       "TtestResult(statistic=-3.5254179083580186, pvalue=0.9992870862910488, df=29)"
      ]
     },
     "execution_count": 26,
     "metadata": {},
     "output_type": "execute_result"
    }
   ],
   "source": [
    "result = stats.ttest_rel(df['Score'], df['Score2'], alternative='greater')\n",
    "result"
   ]
  },
  {
   "cell_type": "code",
   "execution_count": 27,
   "id": "73fd6638-19e3-43fe-a8ff-25f08e03eacf",
   "metadata": {},
   "outputs": [
    {
     "data": {
      "text/plain": [
       "TtestResult(statistic=-3.5254179083580186, pvalue=0.0007129137089512804, df=29)"
      ]
     },
     "execution_count": 27,
     "metadata": {},
     "output_type": "execute_result"
    }
   ],
   "source": [
    "result = stats.ttest_rel(df['Score'], df['Score2'], alternative='less')\n",
    "result"
   ]
  },
  {
   "cell_type": "markdown",
   "id": "106dde4c-c2ef-4d2e-af72-6ed3d539da2e",
   "metadata": {},
   "source": [
    "### 5. Wilcoxon Signed-Rank Test (non-parametric)\n",
    "https://docs.scipy.org/doc/scipy/reference/generated/scipy.stats.wilcoxon.html\n",
    "- Calculate the Wilcoxon signed-rank test\n",
    "- The Wilcoxon signed-rank test tests the null hypothesis that two related paired samples come from the same distribution.\n",
    "- It is a non-parametric version of the paired T-test."
   ]
  },
  {
   "cell_type": "code",
   "execution_count": 28,
   "id": "572f23ef-264d-42be-88ee-aef94ca1bded",
   "metadata": {},
   "outputs": [
    {
     "data": {
      "text/plain": [
       "WilcoxonResult(statistic=0.0, pvalue=1.862645149230957e-09)"
      ]
     },
     "execution_count": 28,
     "metadata": {},
     "output_type": "execute_result"
    }
   ],
   "source": [
    "# Assume that the 30 students take the exam again after taking my special lecture :)\n",
    "df['Score2'] = df['Score']+5 \n",
    "\n",
    "result = stats.wilcoxon(df['Score'], df['Score2'])\n",
    "result"
   ]
  },
  {
   "cell_type": "markdown",
   "id": "a033328a-3191-4a7b-9708-21cbb82551de",
   "metadata": {},
   "source": [
    "### 6. ANOVA\n",
    "https://docs.scipy.org/doc/scipy/reference/generated/scipy.stats.f_oneway.html\n",
    "\n",
    "- Perform one-way ANOVA.\n",
    "- \n",
    "The one-way ANOVA tests the null hypothesis that two or more groups have the same population mean. The test is applied to samples from two or more groups, possibly with differing sizes"
   ]
  },
  {
   "cell_type": "code",
   "execution_count": 29,
   "id": "41a2d244-03c4-4626-b645-24e3135e5f5d",
   "metadata": {},
   "outputs": [
    {
     "data": {
      "text/plain": [
       "F_onewayResult(statistic=0.16666666666666666, pvalue=0.8473459298091824)"
      ]
     },
     "execution_count": 29,
     "metadata": {},
     "output_type": "execute_result"
    }
   ],
   "source": [
    "result = stats.f_oneway(df[df['Department']=='A']['Height'], df[df['Department']=='B']['Height'], df[df['Department']=='C']['Height'])\n",
    "result"
   ]
  },
  {
   "cell_type": "code",
   "execution_count": 30,
   "id": "91475487-6fe8-4923-8f86-33242b506d4a",
   "metadata": {},
   "outputs": [
    {
     "data": {
      "text/plain": [
       "F_onewayResult(statistic=4.955742601140375, pvalue=0.014680143251709138)"
      ]
     },
     "execution_count": 30,
     "metadata": {},
     "output_type": "execute_result"
    }
   ],
   "source": [
    "result = stats.f_oneway(df[df['Department']=='A']['Score'], df[df['Department']=='B']['Score'], df[df['Department']=='C']['Score'])\n",
    "result"
   ]
  },
  {
   "cell_type": "code",
   "execution_count": 31,
   "id": "229c329c-861b-4541-b2b8-d2fe25207646",
   "metadata": {},
   "outputs": [
    {
     "data": {
      "text/plain": [
       "F_onewayResult(statistic=54.0, pvalue=5.306232131621449e-08)"
      ]
     },
     "execution_count": 31,
     "metadata": {},
     "output_type": "execute_result"
    }
   ],
   "source": [
    "result = stats.f_oneway(df[df['Gender']==0]['Height'], df[df['Gender']==1]['Height'])\n",
    "result"
   ]
  },
  {
   "attachments": {},
   "cell_type": "markdown",
   "id": "ba05d8d9-7109-486f-8cd9-0fc0f7cba549",
   "metadata": {},
   "source": [
    "### 7. Kruskal-Wallis Test (non-parametric)\n",
    "https://docs.scipy.org/doc/scipy/reference/generated/scipy.stats.kruskal.html\n",
    "- Compute the Kruskal-Wallis H-test for independent samples"
   ]
  },
  {
   "cell_type": "code",
   "execution_count": 32,
   "id": "31979346-c536-4d43-8977-98376782f7db",
   "metadata": {},
   "outputs": [
    {
     "data": {
      "text/plain": [
       "KruskalResult(statistic=0.37186108637576804, pvalue=0.8303312651417938)"
      ]
     },
     "execution_count": 32,
     "metadata": {},
     "output_type": "execute_result"
    }
   ],
   "source": [
    "result = stats.kruskal(df[df['Department']=='A']['Height'], df[df['Department']=='B']['Height'], df[df['Department']=='C']['Height'])\n",
    "result"
   ]
  },
  {
   "cell_type": "code",
   "execution_count": 33,
   "id": "7436472e-f730-4d46-a3aa-6bb510934666",
   "metadata": {},
   "outputs": [
    {
     "data": {
      "text/plain": [
       "KruskalResult(statistic=9.351633986928094, pvalue=0.009317909356087518)"
      ]
     },
     "execution_count": 33,
     "metadata": {},
     "output_type": "execute_result"
    }
   ],
   "source": [
    "result = stats.kruskal(df[df['Department']=='A']['Score'], df[df['Department']=='B']['Score'], df[df['Department']=='C']['Score'])\n",
    "result"
   ]
  }
 ],
 "metadata": {
  "kernelspec": {
   "display_name": "Python 3 (ipykernel)",
   "language": "python",
   "name": "python3"
  },
  "language_info": {
   "codemirror_mode": {
    "name": "ipython",
    "version": 3
   },
   "file_extension": ".py",
   "mimetype": "text/x-python",
   "name": "python",
   "nbconvert_exporter": "python",
   "pygments_lexer": "ipython3",
   "version": "3.9.18"
  }
 },
 "nbformat": 4,
 "nbformat_minor": 5
}
